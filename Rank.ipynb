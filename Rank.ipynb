{
 "nbformat": 4,
 "nbformat_minor": 2,
 "metadata": {
  "language_info": {
   "name": "python",
   "codemirror_mode": {
    "name": "ipython",
    "version": 3
   },
   "version": "3.7.5-final"
  },
  "orig_nbformat": 2,
  "file_extension": ".py",
  "mimetype": "text/x-python",
  "name": "python",
  "npconvert_exporter": "python",
  "pygments_lexer": "ipython3",
  "version": 3,
  "kernelspec": {
   "name": "python37564bitd7b01258d5534861ab17437a8918bd54",
   "display_name": "Python 3.7.5 64-bit"
  }
 },
 "cells": [
  {
   "cell_type": "code",
   "execution_count": 1,
   "metadata": {},
   "outputs": [],
   "source": [
    "import sys\n",
    "from PyQt5.QtWidgets import *\n",
    "from PyQt5.QtGui import *\n",
    "from PyQt5.QtCore import *\n",
    "from PyQt5 import uic\n",
    "from bs4 import BeautifulSoup\n",
    "from urllib.request import urlopen\n",
    "from urllib import parse\n",
    "import html5lib"
   ]
  },
  {
   "cell_type": "code",
   "execution_count": 64,
   "metadata": {},
   "outputs": [],
   "source": [
    "form_class = uic.loadUiType(\"Rank_Finder.ui\")[0]\n",
    "\n",
    "#텍스트브라우저에서 텍스트를 얻어옴\n",
    "def Get_Id(self):\n",
    "    ID = self.ID_TxtBox.toPlainText()\n",
    "    ID = list(ID)\n",
    "    for i in range(len(ID)):\n",
    "        if ID[i] == ' ':\n",
    "            ID[i] = '%'\n",
    "            #원래라면 띄어쓰기에 20이 같이 들어가는데 %하니까 25가 들어가도 작동 잘되서 이대로 함\n",
    "#            ID.insert(i+1,'2')\n",
    "#            ID.insert(i+2,'0')\n",
    "    ID = ''.join(ID)\n",
    "    print(ID)\n",
    "    return ID  \n",
    "\n",
    "class R1Blade_Rank(QMainWindow, form_class):\n",
    "\n",
    "    def __init__(self):\n",
    "        super().__init__()\n",
    "        self.setupUi(self)\n",
    "        self.Search_Button.clicked.connect(self.Search_btn_Clicked)   \n",
    "\n",
    "    #버튼 클릭이벤트\n",
    "    def Search_btn_Clicked(self):\n",
    "        self.Game_Result.clear()\n",
    "        #판 결과        \n",
    "        champion = list()\n",
    "        all_kda = list()\n",
    "        result = list()\n",
    "        kill = list()\n",
    "        death = list()\n",
    "        assist = list()\n",
    "\n",
    "        #아이디 받아옴\n",
    "        ID = Get_Id(self)\n",
    "        ID = parse.quote(ID)\n",
    "        #op.gg에서 데이터 크롤링\n",
    "        url = \"https://www.op.gg/summoner/userName=\"+ID\n",
    "        #beautifulsoup 한글 입력 오류\n",
    "        print(url)\n",
    "        html = urlopen(url)\n",
    "        bsObject = BeautifulSoup(html, \"html5lib\")\n",
    "        #티어 추출\n",
    "        tier = bsObject.find(\"div\",{\"class\":\"TierRank\"})\n",
    "        #lp 추출\n",
    "        lp = bsObject.find(\"span\",{\"class\":\"LeaguePoints\"})\n",
    "        lp = lp.text.strip()\n",
    "\n",
    "        time = bsObject.find_all(\"span\",{\"class\":\"_timeago _timeCount\"})\n",
    "\n",
    "        all_GameResult = bsObject.find_all(\"div\",{\"class\":\"GameResult\"})\n",
    "        #승패 추출\n",
    "        for i in range(len(all_GameResult)):\n",
    "            winlose = all_GameResult[i].text.strip()\n",
    "            result.append(winlose)\n",
    "\n",
    "        all_Game = bsObject.find_all(\"div\",{\"class\":\"GameItemWrap\"})\n",
    "        for Game in all_Game:\n",
    "            div_champ = Game.find_all('div',{\"class\":\"ChampionName\"})\n",
    "            for i in range(len(div_champ)):\n",
    "                champion.append(div_champ[i].text.strip())\n",
    "\n",
    "\n",
    "        div_KDA = bsObject.find_all(\"div\",{\"class\":\"KDA\"})\n",
    "        for div_all_kda in div_KDA:\n",
    "            kda = div_all_kda.find_all(\"div\",{\"class\":\"KDA\"})\n",
    "            for i in range(len(kda)):\n",
    "                tmp = kda[i].text.strip()\n",
    "                tmp = tmp.replace(\"\t\",\"\")\n",
    "                tmp = tmp.split(\" /\\n\")\n",
    "                all_kda.append(tmp)\n",
    "\n",
    "        for k, d, a in all_kda:\n",
    "            kill.append(k)\n",
    "            death.append(d)\n",
    "            assist.append(a)\n",
    "        \n",
    "        Item_list = list()\n",
    "        for i in range(len(result)):\n",
    "            Item = \"Result : \"+result[i]+\" Champ : \"+champion[i]+\" KDA : \"+kill[i]+\"/\"+death[i]+\"/\"+assist[i]\n",
    "            self.Game_Result.addItem(Item) \n",
    "        #티어 표시\n",
    "        self.Tier_Result.setText(tier.text+ \" \" + lp)\n",
    "        #리스트에 승패 항목 불러옴\n",
    " "
   ]
  },
  {
   "cell_type": "code",
   "execution_count": 65,
   "metadata": {},
   "outputs": [
    {
     "name": "stdout",
     "output_type": "stream",
     "text": "으히으히히힝\nhttps://www.op.gg/summoner/userName=%EC%9C%BC%ED%9E%88%EC%9C%BC%ED%9E%88%ED%9E%88%ED%9E%9D\n으히으히히힝\nhttps://www.op.gg/summoner/userName=%EC%9C%BC%ED%9E%88%EC%9C%BC%ED%9E%88%ED%9E%88%ED%9E%9D\n"
    },
    {
     "data": {
      "text/plain": "0"
     },
     "execution_count": 65,
     "metadata": {},
     "output_type": "execute_result"
    }
   ],
   "source": [
    "app = QApplication.instance()\n",
    "\n",
    "if app is None:\n",
    "    app = QApplication(sys.argv)\n",
    "window = R1Blade_Rank()\n",
    "window.show()\n",
    "app.exec_()"
   ]
  },
  {
   "cell_type": "code",
   "execution_count": null,
   "metadata": {},
   "outputs": [],
   "source": []
  }
 ]
}